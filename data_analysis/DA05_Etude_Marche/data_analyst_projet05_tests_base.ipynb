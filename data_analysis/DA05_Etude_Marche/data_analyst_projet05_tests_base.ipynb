{
 "cells": [
  {
   "cell_type": "markdown",
   "metadata": {},
   "source": [
    "# Projet 05 : Tests de  base"
   ]
  },
  {
   "cell_type": "markdown",
   "metadata": {},
   "source": [
    "---"
   ]
  },
  {
   "cell_type": "markdown",
   "metadata": {},
   "source": [
    "## <font color=blue>Sommaire</font>"
   ]
  },
  {
   "cell_type": "markdown",
   "metadata": {},
   "source": [
    "[1. Tests de base : 5 variables - 5 clusters](#1_0)   \n",
    "&nbsp;&nbsp;&nbsp;&nbsp;&nbsp;[1.1. Test de normalité](#1_1)  \n",
    "&nbsp;&nbsp;&nbsp;&nbsp;&nbsp;[1.2. Comparaison des clusters 3 et 5](#1_2)  \n",
    "&nbsp;&nbsp;&nbsp;&nbsp;&nbsp;[1.3. Comparaison des clusters 4 et 5](#1_3)  \n",
    "  \n",
    "[2. Tests de base : 5 variables - 6 clusters](#2_0)  \n",
    "&nbsp;&nbsp;&nbsp;&nbsp;&nbsp;[2.1. Comparaison des clusters 4 et 6](#2_1)  \n",
    "&nbsp;&nbsp;&nbsp;&nbsp;&nbsp;[2.2. Comparaison des clusters 3 et 5](#2_2)  \n",
    "  \n",
    "[3. Tests de base : 5 variables - 11 clusters](#3_0)  \n",
    "&nbsp;&nbsp;&nbsp;&nbsp;&nbsp;[3.1. Comparaison des clusters 4 et 5](#3_1)  \n",
    "&nbsp;&nbsp;&nbsp;&nbsp;&nbsp;[3.2. Comparaison des clusters 6 et 10](#3_2)  \n",
    "  \n"
   ]
  },
  {
   "cell_type": "markdown",
   "metadata": {},
   "source": [
    "**Importation des librairies et des données**"
   ]
  },
  {
   "cell_type": "code",
   "execution_count": 1,
   "metadata": {},
   "outputs": [],
   "source": [
    "import numpy as np\n",
    "import pandas as pd\n",
    "import matplotlib.pyplot as plt\n",
    "\n",
    "import sf_classification_acp as sfca\n",
    "import sf_stats_inferentielles as sfsi"
   ]
  },
  {
   "cell_type": "code",
   "execution_count": 2,
   "metadata": {},
   "outputs": [],
   "source": [
    "v5c5 = pd.read_csv(\"5variables_5clusters.csv\", index_col=0)\n",
    "v5c6 = pd.read_csv(\"5variables_6clusters.csv\", index_col=0)\n",
    "v5c11 = pd.read_csv(\"5variables_11clusters.csv\", index_col=0)"
   ]
  },
  {
   "cell_type": "markdown",
   "metadata": {},
   "source": [
    "---"
   ]
  },
  {
   "cell_type": "markdown",
   "metadata": {},
   "source": [
    "<a id=\"1_0\"></a>"
   ]
  },
  {
   "cell_type": "markdown",
   "metadata": {},
   "source": [
    "## <font color=blue>1. Tests de base : 5 variables - 5 clusters</font>"
   ]
  },
  {
   "cell_type": "markdown",
   "metadata": {},
   "source": [
    "<a id=\"1_1\"></a>"
   ]
  },
  {
   "cell_type": "markdown",
   "metadata": {},
   "source": [
    "### <font color=blue>1.1. Test de normalité</font>"
   ]
  },
  {
   "cell_type": "markdown",
   "metadata": {},
   "source": [
    "Je cherche parmi mes 5 variables celles qui ont une distribution normale. Ma population est de 174 pays, soit moins de 5000 individus. Donc j'utilise le test de Shapiro."
   ]
  },
  {
   "cell_type": "code",
   "execution_count": 3,
   "metadata": {},
   "outputs": [
    {
     "name": "stdout",
     "output_type": "stream",
     "text": [
      "Variable croissance_population\n",
      "Test de normalité de Shapiro-Wilk pour l'échantillon de taille 174.\n",
      "La statistique testée est W = 0.839\n",
      "La p_value 0.000 est inférieure à alpha 0.050. L'hypothèse que la distribution de l'échantillon suit une loi normale est rejetée avec un niveau de risque de 5.00%. Le test conclut que la distribution de l'échantillon ne suit pas une loi normale.\n",
      "\n",
      "Variable food_proportion_animal_protein\n",
      "Test de normalité de Shapiro-Wilk pour l'échantillon de taille 174.\n",
      "La statistique testée est W = 0.959\n",
      "La p_value 0.000 est inférieure à alpha 0.050. L'hypothèse que la distribution de l'échantillon suit une loi normale est rejetée avec un niveau de risque de 5.00%. Le test conclut que la distribution de l'échantillon ne suit pas une loi normale.\n",
      "\n",
      "Variable food_protein_g_capita_day\n",
      "Test de normalité de Shapiro-Wilk pour l'échantillon de taille 174.\n",
      "La statistique testée est W = 0.982\n",
      "La p_value 0.021 est inférieure à alpha 0.050. L'hypothèse que la distribution de l'échantillon suit une loi normale est rejetée avec un niveau de risque de 5.00%. Le test conclut que la distribution de l'échantillon ne suit pas une loi normale.\n",
      "\n",
      "Variable food_supply_kcal_capita_day\n",
      "Test de normalité de Shapiro-Wilk pour l'échantillon de taille 174.\n",
      "La statistique testée est W = 0.983\n",
      "La p_value 0.028 est inférieure à alpha 0.050. L'hypothèse que la distribution de l'échantillon suit une loi normale est rejetée avec un niveau de risque de 5.00%. Le test conclut que la distribution de l'échantillon ne suit pas une loi normale.\n",
      "\n",
      "Variable gdp_per_capita_usd\n",
      "Test de normalité de Shapiro-Wilk pour l'échantillon de taille 174.\n",
      "La statistique testée est W = 0.692\n",
      "La p_value 0.000 est inférieure à alpha 0.050. L'hypothèse que la distribution de l'échantillon suit une loi normale est rejetée avec un niveau de risque de 5.00%. Le test conclut que la distribution de l'échantillon ne suit pas une loi normale.\n",
      "\n"
     ]
    }
   ],
   "source": [
    "data = v5c5.iloc[:,:-1]\n",
    "for col in data.columns:\n",
    "    data_continue = sfsi.OneSample(data[col])\n",
    "    comment = data_continue.comment_test_normalite(alpha=0.05, short_comment=False)\n",
    "    print(\"Variable {}\\n{}\\n\".format(col, comment))"
   ]
  },
  {
   "cell_type": "markdown",
   "metadata": {},
   "source": [
    "Aucune variable ne suit une distribution normale au niveau de test 5%. Je relance les tests au niveau de 2.5%."
   ]
  },
  {
   "cell_type": "code",
   "execution_count": 4,
   "metadata": {},
   "outputs": [
    {
     "name": "stdout",
     "output_type": "stream",
     "text": [
      "Variable croissance_population\n",
      "Test de normalité de Shapiro-Wilk pour l'échantillon de taille 174.\n",
      "La statistique testée est W = 0.839\n",
      "La p_value 0.000 est inférieure à alpha 0.025. L'hypothèse que la distribution de l'échantillon suit une loi normale est rejetée avec un niveau de risque de 2.50%. Le test conclut que la distribution de l'échantillon ne suit pas une loi normale.\n",
      "\n",
      "Variable food_proportion_animal_protein\n",
      "Test de normalité de Shapiro-Wilk pour l'échantillon de taille 174.\n",
      "La statistique testée est W = 0.959\n",
      "La p_value 0.000 est inférieure à alpha 0.025. L'hypothèse que la distribution de l'échantillon suit une loi normale est rejetée avec un niveau de risque de 2.50%. Le test conclut que la distribution de l'échantillon ne suit pas une loi normale.\n",
      "\n",
      "Variable food_protein_g_capita_day\n",
      "Test de normalité de Shapiro-Wilk pour l'échantillon de taille 174.\n",
      "La statistique testée est W = 0.982\n",
      "La p_value 0.021 est inférieure à alpha 0.025. L'hypothèse que la distribution de l'échantillon suit une loi normale est rejetée avec un niveau de risque de 2.50%. Le test conclut que la distribution de l'échantillon ne suit pas une loi normale.\n",
      "\n",
      "Variable food_supply_kcal_capita_day\n",
      "Test de normalité de Shapiro-Wilk pour l'échantillon de taille 174.\n",
      "La statistique testée est W = 0.983\n",
      "La p_value 0.028 est supérieure à alpha 0.025. L'hypothèse que la distribution de l'échantillon suit une loi normale est acceptée au niveau de test de 2.50%.\n",
      "\n",
      "Variable gdp_per_capita_usd\n",
      "Test de normalité de Shapiro-Wilk pour l'échantillon de taille 174.\n",
      "La statistique testée est W = 0.692\n",
      "La p_value 0.000 est inférieure à alpha 0.025. L'hypothèse que la distribution de l'échantillon suit une loi normale est rejetée avec un niveau de risque de 2.50%. Le test conclut que la distribution de l'échantillon ne suit pas une loi normale.\n",
      "\n"
     ]
    }
   ],
   "source": [
    "for col in data.columns:\n",
    "    data_continue = sfsi.OneSample(data[col])\n",
    "    comment = data_continue.comment_test_normalite(alpha=0.025, short_comment=False)\n",
    "    print(\"Variable {}\\n{}\\n\".format(col, comment))"
   ]
  },
  {
   "cell_type": "markdown",
   "metadata": {},
   "source": [
    "Avec un risque de première espèce fixé à apha=2.5%, l'hypothèse que la variable food_supply_kcal_capita_day suit une loi normale est acceptée. Cette variable impacte surtout le premier axe d'inertie. Je sélectionne les clusters que je vais comparer à la vue de leur similarité sur ce premier axe d'inertie."
   ]
  },
  {
   "cell_type": "markdown",
   "metadata": {},
   "source": [
    "<a id=\"1_2\"></a>"
   ]
  },
  {
   "cell_type": "markdown",
   "metadata": {},
   "source": [
    "### <font color=blue>1.2. Comparaison des clusters 3 et 5</font>"
   ]
  },
  {
   "cell_type": "markdown",
   "metadata": {},
   "source": [
    "Je compare pour cette variable les échantillons des clusters 3 et 5, entre lesquels nous avions le choix pour notre stratégie d'exportation.  \n",
    "  \n",
    "Pour comparer les échantillons, je dois d'abord comparer leurs variances. Si l'hypothèse d'égalité des variances est acceptée, je compare ensuite leurs moyennes. Si l'hypothèse d'égalité des moyennes est également acceptée, je peux considérer que les deux échantillons suivent la même loi normale."
   ]
  },
  {
   "cell_type": "code",
   "execution_count": 5,
   "metadata": {
    "scrolled": true
   },
   "outputs": [
    {
     "name": "stdout",
     "output_type": "stream",
     "text": [
      "Test F de Fisher pour comparer les variances de deux échantillons de taille 22 et 41.\n",
      "On teste la statistique F = 1.0163215716641083 avec la loi de Fisher à 21 et 40 degrés de liberté.\n",
      "Le ratio des deux variances est estimé à 1.0163215716641083 et est compris dans l'intervalle (0.4956177456170437, 2.283144294524119) avec un niveau de confiance de 95.00%.\n",
      "La p_value 0.935 est supérieure à alpha 0.050. L'hypothèse H0 que la variance de x est égale à la variance de y est acceptée au niveau de test de 5.00% (contre l'hypothèse alternative que la variance de x est différente de la variance de y).\n"
     ]
    }
   ],
   "source": [
    "x = v5c5[v5c5.cluster == 3].food_supply_kcal_capita_day\n",
    "y = v5c5[v5c5.cluster == 5].food_supply_kcal_capita_day\n",
    "data_comparaison = sfsi.TwoSamples(x,y)\n",
    "comment = data_comparaison.comment_variance_ratio_fishertest()\n",
    "print(comment)"
   ]
  },
  {
   "cell_type": "code",
   "execution_count": 6,
   "metadata": {},
   "outputs": [
    {
     "name": "stdout",
     "output_type": "stream",
     "text": [
      "Méthode = test t de student pour comparer les moyennes de deux échantillons avec la même variance.\n",
      "On teste la statistique T = 3.2236736733819558 avec la loi de Student à 61.00 degrés de liberté.\n",
      "La différence entre les moyennes de x et de y est estimée à 216.29268292682946 et est comprise dans l'intervalle (82.1277538202641, 350.4576120333948) avec un niveau de confiance de 95.00%.\n",
      "La p_value 0.002 est inférieure à alpha 0.050. L'hypothèse H0 que la moyenne de x est égale à la moyenne de y est rejetée avec un niveau de risque de 5.00%. Le test conclut que la moyenne de x est différente de la moyenne de y.\n"
     ]
    }
   ],
   "source": [
    "data_comparaison.change_var_equal(True)\n",
    "comment = data_comparaison.comment_mean_difference_ttest()\n",
    "print(comment)"
   ]
  },
  {
   "cell_type": "markdown",
   "metadata": {},
   "source": [
    "Les variables food_supply_kcal_capita_day des clusters 3 et 5 ont une variance similaire. Par contre leurs moyennes ne sont pas égales. Donc nous pouvons considérer que les variables food_supply_kcal_capita_day des clusters 3 et 5 suivent une loi normale de même variance mais de moyenne différente."
   ]
  },
  {
   "cell_type": "markdown",
   "metadata": {},
   "source": [
    "<a id=\"1_3\"></a>"
   ]
  },
  {
   "cell_type": "markdown",
   "metadata": {},
   "source": [
    "### <font color=blue>1.3. Comparaison des clusters 4 et 5</font>"
   ]
  },
  {
   "cell_type": "markdown",
   "metadata": {},
   "source": [
    "La projection sur le premier plan factoriel montre une certaine similitude entre les clusters 4 et 5. Effectuons les mêmes tests sur la même variable mais pour ces clusters 4 et 5."
   ]
  },
  {
   "cell_type": "code",
   "execution_count": 7,
   "metadata": {},
   "outputs": [
    {
     "name": "stdout",
     "output_type": "stream",
     "text": [
      "Test F de Fisher pour comparer les variances de deux échantillons de taille 55 et 41.\n",
      "On teste la statistique F = 0.7128893748135297 avec la loi de Fisher à 54 et 40 degrés de liberté.\n",
      "Le ratio des deux variances est estimé à 0.7128893748135297 et est compris dans l'intervalle (0.3918406120578664, 1.2639747479423324) avec un niveau de confiance de 95.00%.\n",
      "La p_value 0.245 est supérieure à alpha 0.050. L'hypothèse H0 que la variance de x est égale à la variance de y est acceptée au niveau de test de 5.00% (contre l'hypothèse alternative que la variance de x est différente de la variance de y).\n"
     ]
    }
   ],
   "source": [
    "x = v5c5[v5c5.cluster == 4].food_supply_kcal_capita_day\n",
    "y = v5c5[v5c5.cluster == 5].food_supply_kcal_capita_day\n",
    "data_comparaison = sfsi.TwoSamples(x,y)\n",
    "comment = data_comparaison.comment_variance_ratio_fishertest()\n",
    "print(comment)"
   ]
  },
  {
   "cell_type": "code",
   "execution_count": 8,
   "metadata": {},
   "outputs": [
    {
     "name": "stdout",
     "output_type": "stream",
     "text": [
      "Méthode = test t de student pour comparer les moyennes de deux échantillons avec la même variance.\n",
      "On teste la statistique T = -7.6788546798125505 avec la loi de Student à 94.00 degrés de liberté.\n",
      "La différence entre les moyennes de x et de y est estimée à -366.5436807095343 et est comprise dans l'intervalle (-461.3209750882419, -271.76638633082683) avec un niveau de confiance de 95.00%.\n",
      "La p_value 0.000 est inférieure à alpha 0.050. L'hypothèse H0 que la moyenne de x est égale à la moyenne de y est rejetée avec un niveau de risque de 5.00%. Le test conclut que la moyenne de x est différente de la moyenne de y.\n"
     ]
    }
   ],
   "source": [
    "data_comparaison.change_var_equal(True)\n",
    "comment = data_comparaison.comment_mean_difference_ttest()\n",
    "print(comment)"
   ]
  },
  {
   "cell_type": "markdown",
   "metadata": {},
   "source": [
    "Pour les clusters 4 et 5, nous arrivons aux mêmes conclusions. Les variances sont similaires mais les moyennes diffèrent.  \n",
    "Effectuons un dernier test sur les moyennes en modifiant l'hypothèse alternative : je teste maintenant l'hypothèse nulle d'égalité des moyennes contre l'hypothèse alternative que la moyenne du cluster 4 est inférieure à celle du cluster 5 pour la variable food_supply_kcal_capita_day.  "
   ]
  },
  {
   "cell_type": "code",
   "execution_count": 9,
   "metadata": {},
   "outputs": [
    {
     "name": "stdout",
     "output_type": "stream",
     "text": [
      "Méthode = test t de student pour comparer les moyennes de deux échantillons avec la même variance.\n",
      "On teste la statistique T = -7.6788546798125505 avec la loi de Student à 94.00 degrés de liberté.\n",
      "La différence entre les moyennes de x et de y est estimée à -366.5436807095343 et est comprise dans l'intervalle (-inf, -287.24645933077267) avec un niveau de confiance de 95.00%.\n",
      "La p_value 0.000 est inférieure à alpha 0.050. L'hypothèse H0 que la moyenne de x est égale à la moyenne de y est rejetée avec un niveau de risque de 5.00%. Le test conclut que la moyenne de x est inférieure à la moyenne de y.\n"
     ]
    }
   ],
   "source": [
    "comment = data_comparaison.comment_mean_difference_ttest(alternative='smaller')\n",
    "print(comment)"
   ]
  },
  {
   "cell_type": "markdown",
   "metadata": {},
   "source": [
    "Là encore, le test conclut que la moyenne du cluster 4 est différente, et plus précisément qu'elle est inférieure, à celle du cluster 5 pour la variable food_supply_kcal_capita_day."
   ]
  },
  {
   "cell_type": "code",
   "execution_count": 10,
   "metadata": {},
   "outputs": [
    {
     "name": "stdout",
     "output_type": "stream",
     "text": [
      "Méthode = test t de student pour comparer les moyennes de deux échantillons avec la même variance.\n",
      "On teste la statistique T = -7.6788546798125505 avec la loi de Student à 94.00 degrés de liberté.\n",
      "La différence entre les moyennes de x et de y est estimée à -366.5436807095343 et est comprise dans l'intervalle (-445.840902088296, inf) avec un niveau de confiance de 95.00%.\n",
      "La p_value 1.000 est supérieure à alpha 0.050. L'hypothèse H0 que la moyenne de x est égale à la moyenne de y est acceptée au niveau de test de 5.00% (contre l'hypothèse alternative que la moyenne de x est supérieure à la moyenne de y).\n"
     ]
    }
   ],
   "source": [
    "comment = data_comparaison.comment_mean_difference_ttest(alternative='larger')\n",
    "print(comment)"
   ]
  },
  {
   "cell_type": "markdown",
   "metadata": {},
   "source": [
    "Par contre, l'hypothèse d'égalité des moyennes est acceptée lorsqu'elle est testée contre l'hypothèse que la moyenne du cluster 4 est plus grande que celle du cluster 5. Le fait que la moyenne du cluster 4 ne soit pas supérieure à celle du cluster 5 est cohérent avec le test précédent qui concluait qu'elle lui est inférieure."
   ]
  },
  {
   "cell_type": "markdown",
   "metadata": {},
   "source": [
    "---"
   ]
  },
  {
   "cell_type": "markdown",
   "metadata": {},
   "source": [
    "<a id=\"2_0\"></a>"
   ]
  },
  {
   "cell_type": "markdown",
   "metadata": {},
   "source": [
    "## <font color=blue>2. Tests de base : 5 variables - 6 clusters</font>"
   ]
  },
  {
   "cell_type": "markdown",
   "metadata": {},
   "source": [
    "Je mène deux nouveaux tests de comparaison pour la variable food_supply_kcal_capita_day sur la base de l'analyse avec 6 clusters :\n",
    "- d'une part, entre les clusters 4 et 6, car leur projection sur le premier axe d'inertie semble assez similaire (ils sont différenciés surtout par le deuxième axe d'inertie) ;  \n",
    "- d'autre part, entre les clusters 3 et 5, car les points du nouveau cluster 5 sont maintenant en moyenne plus proches sur la projection sur le premier axe d'inertie."
   ]
  },
  {
   "cell_type": "markdown",
   "metadata": {},
   "source": [
    "<a id=\"2_1\"></a>"
   ]
  },
  {
   "cell_type": "markdown",
   "metadata": {},
   "source": [
    "### <font color=blue>2.1. Comparaison des clusters 4 et 6</font>"
   ]
  },
  {
   "cell_type": "code",
   "execution_count": 11,
   "metadata": {},
   "outputs": [
    {
     "name": "stdout",
     "output_type": "stream",
     "text": [
      "Test F de Fisher pour comparer les variances de deux échantillons de taille 55 et 17.\n",
      "On teste la statistique F = 0.8558029508577649 avec la loi de Fisher à 54 et 16 degrés de liberté.\n",
      "Le ratio des deux variances est estimé à 0.8558029508577649 et est compris dans l'intervalle (0.3477562358249858, 1.7626013838815886) avec un niveau de confiance de 95.00%.\n",
      "La p_value 0.644 est supérieure à alpha 0.050. L'hypothèse H0 que la variance de x est égale à la variance de y est acceptée au niveau de test de 5.00% (contre l'hypothèse alternative que la variance de x est différente de la variance de y).\n"
     ]
    }
   ],
   "source": [
    "x = v5c6[v5c6.cluster == 4].food_supply_kcal_capita_day\n",
    "y = v5c6[v5c6.cluster == 6].food_supply_kcal_capita_day\n",
    "data_comparaison = sfsi.TwoSamples(x,y)\n",
    "comment = data_comparaison.comment_variance_ratio_fishertest()\n",
    "print(comment)"
   ]
  },
  {
   "cell_type": "code",
   "execution_count": 12,
   "metadata": {},
   "outputs": [
    {
     "name": "stdout",
     "output_type": "stream",
     "text": [
      "Méthode = test t de student pour comparer les moyennes de deux échantillons avec la même variance.\n",
      "On teste la statistique T = -6.729340442113346 avec la loi de Student à 70.00 degrés de liberté.\n",
      "La différence entre les moyennes de x et de y est estimée à -406.7775401069521 et est comprise dans l'intervalle (-527.3379767535419, -286.2171034603623) avec un niveau de confiance de 95.00%.\n",
      "La p_value 0.000 est inférieure à alpha 0.050. L'hypothèse H0 que la moyenne de x est égale à la moyenne de y est rejetée avec un niveau de risque de 5.00%. Le test conclut que la moyenne de x est différente de la moyenne de y.\n"
     ]
    }
   ],
   "source": [
    "data_comparaison.change_var_equal(True)\n",
    "comment = data_comparaison.comment_mean_difference_ttest()\n",
    "print(comment)"
   ]
  },
  {
   "cell_type": "markdown",
   "metadata": {},
   "source": [
    "Nous arrivons à la même conclusion que précédemment que les variances sont similaires mais les moyennes sont différentes."
   ]
  },
  {
   "cell_type": "markdown",
   "metadata": {},
   "source": [
    "<a id=\"2_2\"></a>"
   ]
  },
  {
   "cell_type": "markdown",
   "metadata": {},
   "source": [
    "### <font color=blue>2.2. Comparaison des clusters 3 et 5</font>"
   ]
  },
  {
   "cell_type": "code",
   "execution_count": 13,
   "metadata": {},
   "outputs": [
    {
     "name": "stdout",
     "output_type": "stream",
     "text": [
      "Test F de Fisher pour comparer les variances de deux échantillons de taille 22 et 24.\n",
      "On teste la statistique F = 0.9011883877647869 avec la loi de Fisher à 21 et 23 degrés de liberté.\n",
      "Le ratio des deux variances est estimé à 0.9011883877647869 et est compris dans l'intervalle (0.3850631830656142, 2.1449477743539895) avec un niveau de confiance de 95.00%.\n",
      "La p_value 0.815 est supérieure à alpha 0.050. L'hypothèse H0 que la variance de x est égale à la variance de y est acceptée au niveau de test de 5.00% (contre l'hypothèse alternative que la variance de x est différente de la variance de y).\n"
     ]
    }
   ],
   "source": [
    "x = v5c6[v5c6.cluster == 3].food_supply_kcal_capita_day\n",
    "y = v5c6[v5c6.cluster == 5].food_supply_kcal_capita_day\n",
    "data_comparaison = sfsi.TwoSamples(x,y)\n",
    "comment = data_comparaison.comment_variance_ratio_fishertest()\n",
    "print(comment)"
   ]
  },
  {
   "cell_type": "code",
   "execution_count": 14,
   "metadata": {},
   "outputs": [
    {
     "name": "stdout",
     "output_type": "stream",
     "text": [
      "Méthode = test t de student pour comparer les moyennes de deux échantillons avec la même variance.\n",
      "On teste la statistique T = 3.1601659600135275 avec la loi de Student à 44.00 degrés de liberté.\n",
      "La différence entre les moyennes de x et de y est estimée à 244.79166666666652 et est comprise dans l'intervalle (88.6779711749188, 400.9053621584143) avec un niveau de confiance de 95.00%.\n",
      "La p_value 0.003 est inférieure à alpha 0.050. L'hypothèse H0 que la moyenne de x est égale à la moyenne de y est rejetée avec un niveau de risque de 5.00%. Le test conclut que la moyenne de x est différente de la moyenne de y.\n"
     ]
    }
   ],
   "source": [
    "data_comparaison.change_var_equal(True)\n",
    "comment = data_comparaison.comment_mean_difference_ttest()\n",
    "print(comment)"
   ]
  },
  {
   "cell_type": "markdown",
   "metadata": {},
   "source": [
    "Nous arrivons encore une fois à la même conclusion que les variances sont similaires mais les moyennes sont différentes."
   ]
  },
  {
   "cell_type": "markdown",
   "metadata": {},
   "source": [
    "Les tests menés arrivent toujours à la même conclusion : les variances sont égales, les moyennes diffèrent."
   ]
  },
  {
   "cell_type": "markdown",
   "metadata": {},
   "source": [
    "---"
   ]
  },
  {
   "cell_type": "markdown",
   "metadata": {},
   "source": [
    "<a id=\"3_0\"></a>"
   ]
  },
  {
   "cell_type": "markdown",
   "metadata": {},
   "source": [
    "## <font color=blue>3. Tests de base : 5 variables - 11 clusters</font>"
   ]
  },
  {
   "cell_type": "markdown",
   "metadata": {},
   "source": [
    "Je mène deux nouveaux tests de comparaison pour la variable food_supply_kcal_capita_day sur la base de l'analyse avec 11 clusters :  \n",
    "- d'une part, entre les clusters 4 et 5, car ils comportent les pays les plus développés et leur projection sur le premier axe d'inertie semble assez similaire (ils sont différenciés surtout par le deuxième axe d'inertie) ;  \n",
    "- d'autre part, entre les clusters 6 et 10, car les points de ces deux clusters se mélangent fortement sur le premier axe d'inertie."
   ]
  },
  {
   "cell_type": "markdown",
   "metadata": {},
   "source": [
    "<a id=\"3_1\"></a>"
   ]
  },
  {
   "cell_type": "markdown",
   "metadata": {},
   "source": [
    "### <font color=blue>3.1. Comparaison des clusters 4 et 5</font>"
   ]
  },
  {
   "cell_type": "code",
   "execution_count": 15,
   "metadata": {},
   "outputs": [
    {
     "name": "stdout",
     "output_type": "stream",
     "text": [
      "Test F de Fisher pour comparer les variances de deux échantillons de taille 5 et 17.\n",
      "On teste la statistique F = 4.778177496086756 avec la loi de Fisher à 4 et 16 degrés de liberté.\n",
      "Le ratio des deux variances est estimé à 4.778177496086756 et est compris dans l'intervalle (1.2812131435768417, 41.24800313662867) avec un niveau de confiance de 95.00%.\n",
      "La p_value 0.020 est inférieure à alpha 0.050. L'hypothèse H0 que la variance de x est égale à la variance de y est rejetée avec un niveau de risque de 5.00%. Le test conclut que la variance de x est différente de la variance de y.\n"
     ]
    }
   ],
   "source": [
    "x = v5c11[v5c11.cluster == 4].food_supply_kcal_capita_day\n",
    "y = v5c11[v5c11.cluster == 5].food_supply_kcal_capita_day\n",
    "data_comparaison = sfsi.TwoSamples(x,y)\n",
    "comment = data_comparaison.comment_variance_ratio_fishertest()\n",
    "print(comment)"
   ]
  },
  {
   "cell_type": "code",
   "execution_count": 16,
   "metadata": {},
   "outputs": [
    {
     "name": "stdout",
     "output_type": "stream",
     "text": [
      "Méthode = test t de Welch pour comparer les moyennes de deux échantillons avec des variances différentes.\n",
      "On teste la statistique T = -1.5054229659162057 avec la loi de Student à 4.50 degrés de liberté.\n",
      "La différence entre les moyennes de x et de y est estimée à -267.36470588235306 et est comprise dans l'intervalle (-739.4713022517242, 204.74189048701805) avec un niveau de confiance de 95.00%.\n",
      "La p_value 0.199 est supérieure à alpha 0.050. L'hypothèse H0 que la moyenne de x est égale à la moyenne de y est acceptée au niveau de test de 5.00% (contre l'hypothèse alternative que la moyenne de x est différente de la moyenne de y).\n"
     ]
    }
   ],
   "source": [
    "data_comparaison.change_var_equal(False)\n",
    "comment = data_comparaison.comment_mean_difference_ttest()\n",
    "print(comment)"
   ]
  },
  {
   "cell_type": "markdown",
   "metadata": {},
   "source": [
    "L'hypothèse d'égalité des variances est rejetée alors que l'hypothèse d'égalité des moyennes est acceptée. Les variables food_supply_kcal_capita_day sur les clusters 4 et 5 suivent donc deux lois normales avec une moyenne similaire mais avec une variance différente."
   ]
  },
  {
   "cell_type": "markdown",
   "metadata": {},
   "source": [
    "<a id=\"3_2\"></a>"
   ]
  },
  {
   "cell_type": "markdown",
   "metadata": {},
   "source": [
    "### <font color=blue>3.2. Comparaison des clusters 6 et 10</font>"
   ]
  },
  {
   "cell_type": "code",
   "execution_count": 17,
   "metadata": {},
   "outputs": [
    {
     "name": "stdout",
     "output_type": "stream",
     "text": [
      "Test F de Fisher pour comparer les variances de deux échantillons de taille 25 et 10.\n",
      "On teste la statistique F = 0.5216751349414862 avec la loi de Fisher à 24 et 9 degrés de liberté.\n",
      "Le ratio des deux variances est estimé à 0.5216751349414862 et est compris dans l'intervalle (0.1443405870574503, 1.4099369971141913) avec un niveau de confiance de 95.00%.\n",
      "La p_value 0.196 est supérieure à alpha 0.050. L'hypothèse H0 que la variance de x est égale à la variance de y est acceptée au niveau de test de 5.00% (contre l'hypothèse alternative que la variance de x est différente de la variance de y).\n"
     ]
    }
   ],
   "source": [
    "x = v5c11[v5c11.cluster == 6].food_supply_kcal_capita_day\n",
    "y = v5c11[v5c11.cluster == 10].food_supply_kcal_capita_day\n",
    "data_comparaison = sfsi.TwoSamples(x,y)\n",
    "comment = data_comparaison.comment_variance_ratio_fishertest()\n",
    "print(comment)"
   ]
  },
  {
   "cell_type": "code",
   "execution_count": 18,
   "metadata": {},
   "outputs": [
    {
     "name": "stdout",
     "output_type": "stream",
     "text": [
      "Méthode = test t de student pour comparer les moyennes de deux échantillons avec la même variance.\n",
      "On teste la statistique T = -5.623297134769987 avec la loi de Student à 33.00 degrés de liberté.\n",
      "La différence entre les moyennes de x et de y est estimée à -343.65999999999985 et est comprise dans l'intervalle (-467.9965787659089, -219.32342123409077) avec un niveau de confiance de 95.00%.\n",
      "La p_value 0.000 est inférieure à alpha 0.050. L'hypothèse H0 que la moyenne de x est égale à la moyenne de y est rejetée avec un niveau de risque de 5.00%. Le test conclut que la moyenne de x est différente de la moyenne de y.\n"
     ]
    }
   ],
   "source": [
    "data_comparaison.change_var_equal(True)\n",
    "comment = data_comparaison.comment_mean_difference_ttest()\n",
    "print(comment)"
   ]
  },
  {
   "cell_type": "markdown",
   "metadata": {},
   "source": [
    "Nous arrivons une nouvelle fois à la conclusion que les variances sont similaires mais les moyennes sont différentes."
   ]
  },
  {
   "cell_type": "code",
   "execution_count": null,
   "metadata": {},
   "outputs": [],
   "source": []
  }
 ],
 "metadata": {
  "kernelspec": {
   "display_name": "Python 3",
   "language": "python",
   "name": "python3"
  },
  "language_info": {
   "codemirror_mode": {
    "name": "ipython",
    "version": 3
   },
   "file_extension": ".py",
   "mimetype": "text/x-python",
   "name": "python",
   "nbconvert_exporter": "python",
   "pygments_lexer": "ipython3",
   "version": "3.7.2"
  }
 },
 "nbformat": 4,
 "nbformat_minor": 2
}
