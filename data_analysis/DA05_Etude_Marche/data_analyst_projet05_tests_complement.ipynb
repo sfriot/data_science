{
 "cells": [
  {
   "cell_type": "markdown",
   "metadata": {},
   "source": [
    "# Projet 05 : Tests complémentaires"
   ]
  },
  {
   "cell_type": "markdown",
   "metadata": {},
   "source": [
    "---"
   ]
  },
  {
   "cell_type": "markdown",
   "metadata": {},
   "source": [
    "## <font color=blue>Sommaire</font>"
   ]
  },
  {
   "cell_type": "markdown",
   "metadata": {},
   "source": [
    "[1. Tests complémentaires : 11 variables - 8 clusters](#1_0)   \n",
    "&nbsp;&nbsp;&nbsp;&nbsp;&nbsp;[1.1. Test de normalité](#1_1)  \n",
    "&nbsp;&nbsp;&nbsp;&nbsp;&nbsp;[1.2. Comparaison des clusters 2 et 3](#1_2)  \n",
    "&nbsp;&nbsp;&nbsp;&nbsp;&nbsp;[1.3. Comparaison des clusters 5 et 7](#1_3)  \n",
    "  \n",
    "[2. Curiosité : le test de Kolmogorov-Smirnov sur de petits échantillons](#2_0)  \n",
    "  \n"
   ]
  },
  {
   "cell_type": "markdown",
   "metadata": {},
   "source": [
    "**Importation des librairies et des données**"
   ]
  },
  {
   "cell_type": "code",
   "execution_count": 1,
   "metadata": {},
   "outputs": [],
   "source": [
    "import numpy as np\n",
    "import pandas as pd\n",
    "import matplotlib.pyplot as plt\n",
    "\n",
    "import sf_classification_acp as sfca\n",
    "import sf_stats_inferentielles as sfsi"
   ]
  },
  {
   "cell_type": "code",
   "execution_count": 2,
   "metadata": {},
   "outputs": [],
   "source": [
    "v11c8 = pd.read_csv(\"11variables_8clusters.csv\", index_col=0)"
   ]
  },
  {
   "cell_type": "markdown",
   "metadata": {},
   "source": [
    "---"
   ]
  },
  {
   "cell_type": "markdown",
   "metadata": {},
   "source": [
    "<a id=\"1_0\"></a>"
   ]
  },
  {
   "cell_type": "markdown",
   "metadata": {},
   "source": [
    "## <font color=blue>1. Tests complémentaires : 11 variables - 8 clusters</font>"
   ]
  },
  {
   "cell_type": "markdown",
   "metadata": {},
   "source": [
    "<a id=\"1_1\"></a>"
   ]
  },
  {
   "cell_type": "markdown",
   "metadata": {},
   "source": [
    "### <font color=blue>1.1. Test de normalité</font>"
   ]
  },
  {
   "cell_type": "markdown",
   "metadata": {},
   "source": [
    "Je cherche parmi mes 11 variables celles qui ont une distribution normale. Ma population est de 174 pays, soit moins de 5000 individus. Donc j'utilise le test de Shapiro."
   ]
  },
  {
   "cell_type": "code",
   "execution_count": 3,
   "metadata": {},
   "outputs": [
    {
     "name": "stdout",
     "output_type": "stream",
     "text": [
      "Variable croissance_population\n",
      "Test de normalité de Shapiro-Wilk pour l'échantillon de taille 174.\n",
      "La statistique testée est W = 0.839\n",
      "La p_value 0.000 est inférieure à alpha 0.050. L'hypothèse que la distribution de l'échantillon suit une loi normale est rejetée avec un niveau de risque de 5.00%. Le test conclut que la distribution de l'échantillon ne suit pas une loi normale.\n",
      "\n",
      "Variable food_proportion_animal_protein\n",
      "Test de normalité de Shapiro-Wilk pour l'échantillon de taille 174.\n",
      "La statistique testée est W = 0.959\n",
      "La p_value 0.000 est inférieure à alpha 0.050. L'hypothèse que la distribution de l'échantillon suit une loi normale est rejetée avec un niveau de risque de 5.00%. Le test conclut que la distribution de l'échantillon ne suit pas une loi normale.\n",
      "\n",
      "Variable food_protein_g_capita_day\n",
      "Test de normalité de Shapiro-Wilk pour l'échantillon de taille 174.\n",
      "La statistique testée est W = 0.982\n",
      "La p_value 0.021 est inférieure à alpha 0.050. L'hypothèse que la distribution de l'échantillon suit une loi normale est rejetée avec un niveau de risque de 5.00%. Le test conclut que la distribution de l'échantillon ne suit pas une loi normale.\n",
      "\n",
      "Variable food_supply_kcal_capita_day\n",
      "Test de normalité de Shapiro-Wilk pour l'échantillon de taille 174.\n",
      "La statistique testée est W = 0.983\n",
      "La p_value 0.028 est inférieure à alpha 0.050. L'hypothèse que la distribution de l'échantillon suit une loi normale est rejetée avec un niveau de risque de 5.00%. Le test conclut que la distribution de l'échantillon ne suit pas une loi normale.\n",
      "\n",
      "Variable animals_proportion_poultry_protein\n",
      "Test de normalité de Shapiro-Wilk pour l'échantillon de taille 174.\n",
      "La statistique testée est W = 0.950\n",
      "La p_value 0.000 est inférieure à alpha 0.050. L'hypothèse que la distribution de l'échantillon suit une loi normale est rejetée avec un niveau de risque de 5.00%. Le test conclut que la distribution de l'échantillon ne suit pas une loi normale.\n",
      "\n",
      "Variable poultry_food_proportion_import\n",
      "Test de normalité de Shapiro-Wilk pour l'échantillon de taille 174.\n",
      "La statistique testée est W = 0.755\n",
      "La p_value 0.000 est inférieure à alpha 0.050. L'hypothèse que la distribution de l'échantillon suit une loi normale est rejetée avec un niveau de risque de 5.00%. Le test conclut que la distribution de l'échantillon ne suit pas une loi normale.\n",
      "\n",
      "Variable gdp_per_capita_usd\n",
      "Test de normalité de Shapiro-Wilk pour l'échantillon de taille 174.\n",
      "La statistique testée est W = 0.692\n",
      "La p_value 0.000 est inférieure à alpha 0.050. L'hypothèse que la distribution de l'échantillon suit une loi normale est rejetée avec un niveau de risque de 5.00%. Le test conclut que la distribution de l'échantillon ne suit pas une loi normale.\n",
      "\n",
      "Variable income_variability\n",
      "Test de normalité de Shapiro-Wilk pour l'échantillon de taille 174.\n",
      "La statistique testée est W = 0.912\n",
      "La p_value 0.000 est inférieure à alpha 0.050. L'hypothèse que la distribution de l'échantillon suit une loi normale est rejetée avec un niveau de risque de 5.00%. Le test conclut que la distribution de l'échantillon ne suit pas une loi normale.\n",
      "\n",
      "Variable taux_urbanisation\n",
      "Test de normalité de Shapiro-Wilk pour l'échantillon de taille 174.\n",
      "La statistique testée est W = 0.975\n",
      "La p_value 0.003 est inférieure à alpha 0.050. L'hypothèse que la distribution de l'échantillon suit une loi normale est rejetée avec un niveau de risque de 5.00%. Le test conclut que la distribution de l'échantillon ne suit pas une loi normale.\n",
      "\n",
      "Variable political_stability\n",
      "Test de normalité de Shapiro-Wilk pour l'échantillon de taille 174.\n",
      "La statistique testée est W = 0.969\n",
      "La p_value 0.001 est inférieure à alpha 0.050. L'hypothèse que la distribution de l'échantillon suit une loi normale est rejetée avec un niveau de risque de 5.00%. Le test conclut que la distribution de l'échantillon ne suit pas une loi normale.\n",
      "\n",
      "Variable doing_business_score\n",
      "Test de normalité de Shapiro-Wilk pour l'échantillon de taille 174.\n",
      "La statistique testée est W = 0.971\n",
      "La p_value 0.001 est inférieure à alpha 0.050. L'hypothèse que la distribution de l'échantillon suit une loi normale est rejetée avec un niveau de risque de 5.00%. Le test conclut que la distribution de l'échantillon ne suit pas une loi normale.\n",
      "\n"
     ]
    }
   ],
   "source": [
    "data = v11c8.iloc[:,:-1]\n",
    "for col in data.columns:\n",
    "    data_continue = sfsi.OneSample(data[col])\n",
    "    comment = data_continue.comment_test_normalite(alpha=0.05, short_comment=False)\n",
    "    print(\"Variable {}\\n{}\\n\".format(col, comment))"
   ]
  },
  {
   "cell_type": "markdown",
   "metadata": {},
   "source": [
    "Aucune variable ne suit une distribution normale au niveau de test 5%. Je relance les tests au niveau de 2.5%."
   ]
  },
  {
   "cell_type": "code",
   "execution_count": 4,
   "metadata": {},
   "outputs": [
    {
     "name": "stdout",
     "output_type": "stream",
     "text": [
      "Variable croissance_population\n",
      "Test de normalité de Shapiro-Wilk pour l'échantillon de taille 174.\n",
      "La statistique testée est W = 0.839\n",
      "La p_value 0.000 est inférieure à alpha 0.025. L'hypothèse que la distribution de l'échantillon suit une loi normale est rejetée avec un niveau de risque de 2.50%. Le test conclut que la distribution de l'échantillon ne suit pas une loi normale.\n",
      "\n",
      "Variable food_proportion_animal_protein\n",
      "Test de normalité de Shapiro-Wilk pour l'échantillon de taille 174.\n",
      "La statistique testée est W = 0.959\n",
      "La p_value 0.000 est inférieure à alpha 0.025. L'hypothèse que la distribution de l'échantillon suit une loi normale est rejetée avec un niveau de risque de 2.50%. Le test conclut que la distribution de l'échantillon ne suit pas une loi normale.\n",
      "\n",
      "Variable food_protein_g_capita_day\n",
      "Test de normalité de Shapiro-Wilk pour l'échantillon de taille 174.\n",
      "La statistique testée est W = 0.982\n",
      "La p_value 0.021 est inférieure à alpha 0.025. L'hypothèse que la distribution de l'échantillon suit une loi normale est rejetée avec un niveau de risque de 2.50%. Le test conclut que la distribution de l'échantillon ne suit pas une loi normale.\n",
      "\n",
      "Variable food_supply_kcal_capita_day\n",
      "Test de normalité de Shapiro-Wilk pour l'échantillon de taille 174.\n",
      "La statistique testée est W = 0.983\n",
      "La p_value 0.028 est supérieure à alpha 0.025. L'hypothèse que la distribution de l'échantillon suit une loi normale est acceptée au niveau de test de 2.50%.\n",
      "\n",
      "Variable animals_proportion_poultry_protein\n",
      "Test de normalité de Shapiro-Wilk pour l'échantillon de taille 174.\n",
      "La statistique testée est W = 0.950\n",
      "La p_value 0.000 est inférieure à alpha 0.025. L'hypothèse que la distribution de l'échantillon suit une loi normale est rejetée avec un niveau de risque de 2.50%. Le test conclut que la distribution de l'échantillon ne suit pas une loi normale.\n",
      "\n",
      "Variable poultry_food_proportion_import\n",
      "Test de normalité de Shapiro-Wilk pour l'échantillon de taille 174.\n",
      "La statistique testée est W = 0.755\n",
      "La p_value 0.000 est inférieure à alpha 0.025. L'hypothèse que la distribution de l'échantillon suit une loi normale est rejetée avec un niveau de risque de 2.50%. Le test conclut que la distribution de l'échantillon ne suit pas une loi normale.\n",
      "\n",
      "Variable gdp_per_capita_usd\n",
      "Test de normalité de Shapiro-Wilk pour l'échantillon de taille 174.\n",
      "La statistique testée est W = 0.692\n",
      "La p_value 0.000 est inférieure à alpha 0.025. L'hypothèse que la distribution de l'échantillon suit une loi normale est rejetée avec un niveau de risque de 2.50%. Le test conclut que la distribution de l'échantillon ne suit pas une loi normale.\n",
      "\n",
      "Variable income_variability\n",
      "Test de normalité de Shapiro-Wilk pour l'échantillon de taille 174.\n",
      "La statistique testée est W = 0.912\n",
      "La p_value 0.000 est inférieure à alpha 0.025. L'hypothèse que la distribution de l'échantillon suit une loi normale est rejetée avec un niveau de risque de 2.50%. Le test conclut que la distribution de l'échantillon ne suit pas une loi normale.\n",
      "\n",
      "Variable taux_urbanisation\n",
      "Test de normalité de Shapiro-Wilk pour l'échantillon de taille 174.\n",
      "La statistique testée est W = 0.975\n",
      "La p_value 0.003 est inférieure à alpha 0.025. L'hypothèse que la distribution de l'échantillon suit une loi normale est rejetée avec un niveau de risque de 2.50%. Le test conclut que la distribution de l'échantillon ne suit pas une loi normale.\n",
      "\n",
      "Variable political_stability\n",
      "Test de normalité de Shapiro-Wilk pour l'échantillon de taille 174.\n",
      "La statistique testée est W = 0.969\n",
      "La p_value 0.001 est inférieure à alpha 0.025. L'hypothèse que la distribution de l'échantillon suit une loi normale est rejetée avec un niveau de risque de 2.50%. Le test conclut que la distribution de l'échantillon ne suit pas une loi normale.\n",
      "\n",
      "Variable doing_business_score\n",
      "Test de normalité de Shapiro-Wilk pour l'échantillon de taille 174.\n",
      "La statistique testée est W = 0.971\n",
      "La p_value 0.001 est inférieure à alpha 0.025. L'hypothèse que la distribution de l'échantillon suit une loi normale est rejetée avec un niveau de risque de 2.50%. Le test conclut que la distribution de l'échantillon ne suit pas une loi normale.\n",
      "\n"
     ]
    }
   ],
   "source": [
    "for col in data.columns:\n",
    "    data_continue = sfsi.OneSample(data[col])\n",
    "    comment = data_continue.comment_test_normalite(alpha=0.025, short_comment=False)\n",
    "    print(\"Variable {}\\n{}\\n\".format(col, comment))"
   ]
  },
  {
   "cell_type": "markdown",
   "metadata": {},
   "source": [
    "Avec un risque de première espèce fixé à apha=2.5%, l'hypothèse que la variable food_supply_kcal_capita_day suit une loi normale est acceptée. Cette variable impacte surtout le premier axe d'inertie. Je sélectionne les clusters que je vais comparer à la vue de leur similarité sur ce premier axe d'inertie."
   ]
  },
  {
   "cell_type": "markdown",
   "metadata": {},
   "source": [
    "<a id=\"1_2\"></a>"
   ]
  },
  {
   "cell_type": "markdown",
   "metadata": {},
   "source": [
    "### <font color=blue>1.2. Comparaison des clusters 2 et 3</font>"
   ]
  },
  {
   "cell_type": "markdown",
   "metadata": {},
   "source": [
    "Je compare pour cette variable les échantillons des clusters 2 et 3, qui comportent deux groupes de pays développés."
   ]
  },
  {
   "cell_type": "code",
   "execution_count": 5,
   "metadata": {
    "scrolled": true
   },
   "outputs": [
    {
     "name": "stdout",
     "output_type": "stream",
     "text": [
      "Test F de Fisher pour comparer les variances de deux échantillons de taille 21 et 5.\n",
      "On teste la statistique F = 0.27675429617122715 avec la loi de Fisher à 20 et 4 degrés de liberté.\n",
      "Le ratio des deux variances est estimé à 0.27675429617122715 et est compris dans l'intervalle (0.032331323949649965, 0.9727069858872431) avec un niveau de confiance de 95.00%.\n",
      "La p_value 0.045 est inférieure à alpha 0.050. L'hypothèse H0 que la variance de x est égale à la variance de y est rejetée avec un niveau de risque de 5.00%. Le test conclut que la variance de x est différente de la variance de y.\n"
     ]
    }
   ],
   "source": [
    "x = v11c8[v11c8.cluster == 2].food_supply_kcal_capita_day\n",
    "y = v11c8[v11c8.cluster == 3].food_supply_kcal_capita_day\n",
    "data_comparaison = sfsi.TwoSamples(x,y)\n",
    "comment = data_comparaison.comment_variance_ratio_fishertest()\n",
    "print(comment)"
   ]
  },
  {
   "cell_type": "code",
   "execution_count": 6,
   "metadata": {},
   "outputs": [
    {
     "name": "stdout",
     "output_type": "stream",
     "text": [
      "Méthode = test t de Welch pour comparer les moyennes de deux échantillons avec des variances différentes.\n",
      "On teste la statistique T = 1.2828520354001935 avec la loi de Student à 4.54 degrés de liberté.\n",
      "La différence entre les moyennes de x et de y est estimée à 248.81904761904752 et est comprise dans l'intervalle (-265.32758973370875, 762.9656849718037) avec un niveau de confiance de 95.00%.\n",
      "La p_value 0.261 est supérieure à alpha 0.050. L'hypothèse H0 que la moyenne de x est égale à la moyenne de y est acceptée au niveau de test de 5.00% (contre l'hypothèse alternative que la moyenne de x est différente de la moyenne de y).\n"
     ]
    }
   ],
   "source": [
    "data_comparaison.change_var_equal(False)\n",
    "comment = data_comparaison.comment_mean_difference_ttest()\n",
    "print(comment)"
   ]
  },
  {
   "cell_type": "markdown",
   "metadata": {},
   "source": [
    "Les variables food_supply_kcal_capita_day des clusters 2 et 3 ont une moyenne similaire mais une variance différente."
   ]
  },
  {
   "cell_type": "markdown",
   "metadata": {},
   "source": [
    "<a id=\"1_3\"></a>"
   ]
  },
  {
   "cell_type": "markdown",
   "metadata": {},
   "source": [
    "### <font color=blue>1.3. Comparaison des clusters 5 et 7</font>"
   ]
  },
  {
   "cell_type": "markdown",
   "metadata": {},
   "source": [
    "La projection sur le premier plan factoriel montre également que les points des clusters 5 et 7 semblent assez proches. Effectuons les mêmes tests sur la même variable mais pour ces clusters 5 et 7."
   ]
  },
  {
   "cell_type": "code",
   "execution_count": 7,
   "metadata": {},
   "outputs": [
    {
     "name": "stdout",
     "output_type": "stream",
     "text": [
      "Test F de Fisher pour comparer les variances de deux échantillons de taille 6 et 15.\n",
      "On teste la statistique F = 0.6592016589795354 avec la loi de Fisher à 5 et 14 degrés de liberté.\n",
      "Le ratio des deux variances est estimé à 0.6592016589795354 et est compris dans l'intervalle (0.17994144778510526, 4.255558773014904) avec un niveau de confiance de 95.00%.\n",
      "La p_value 0.680 est supérieure à alpha 0.050. L'hypothèse H0 que la variance de x est égale à la variance de y est acceptée au niveau de test de 5.00% (contre l'hypothèse alternative que la variance de x est différente de la variance de y).\n"
     ]
    }
   ],
   "source": [
    "x = v11c8[v11c8.cluster == 5].food_supply_kcal_capita_day\n",
    "y = v11c8[v11c8.cluster == 7].food_supply_kcal_capita_day\n",
    "data_comparaison = sfsi.TwoSamples(x,y)\n",
    "comment = data_comparaison.comment_variance_ratio_fishertest()\n",
    "print(comment)"
   ]
  },
  {
   "cell_type": "code",
   "execution_count": 8,
   "metadata": {},
   "outputs": [
    {
     "name": "stdout",
     "output_type": "stream",
     "text": [
      "Méthode = test t de student pour comparer les moyennes de deux échantillons avec la même variance.\n",
      "On teste la statistique T = 4.812856829778862 avec la loi de Student à 19.00 degrés de liberté.\n",
      "La différence entre les moyennes de x et de y est estimée à 437.2999999999997 et est comprise dans l'intervalle (247.12616949468057, 627.4738305053189) avec un niveau de confiance de 95.00%.\n",
      "La p_value 0.000 est inférieure à alpha 0.050. L'hypothèse H0 que la moyenne de x est égale à la moyenne de y est rejetée avec un niveau de risque de 5.00%. Le test conclut que la moyenne de x est différente de la moyenne de y.\n"
     ]
    }
   ],
   "source": [
    "data_comparaison.change_var_equal(True)\n",
    "comment = data_comparaison.comment_mean_difference_ttest()\n",
    "print(comment)"
   ]
  },
  {
   "cell_type": "markdown",
   "metadata": {},
   "source": [
    "Pour les clusters 5 et 7, nous arrivons à la conclusion inverse : ils ont la même variance mais une moyenne différente."
   ]
  },
  {
   "cell_type": "markdown",
   "metadata": {},
   "source": [
    "---"
   ]
  },
  {
   "cell_type": "markdown",
   "metadata": {},
   "source": [
    "<a id=\"2_0\"></a>"
   ]
  },
  {
   "cell_type": "markdown",
   "metadata": {},
   "source": [
    "## <font color=blue>2. Curiosité : le test de Kolmogorov-Smirnov sur de petits échantillons</font>"
   ]
  },
  {
   "cell_type": "markdown",
   "metadata": {},
   "source": [
    "Par curiosité, je teste la normalité des variables avec le test de Kolmogorov-Smirnov."
   ]
  },
  {
   "cell_type": "code",
   "execution_count": 9,
   "metadata": {},
   "outputs": [
    {
     "name": "stdout",
     "output_type": "stream",
     "text": [
      "Variable croissance_population\n",
      "Test de Kolmogorov-Smirnov de la loi de distribution norm pour l'échantillon de taille 174.\n",
      "ATTENTION, pour tester la normalité d'un échantillon de moins de 5000 individus, il est conseillé d'utiliser le test de Shapiro-Wilk.\n",
      "La statistique testée est D = 0.112\n",
      "La p_value 0.024 est inférieure à alpha 0.050. L'hypothèse que la distribution de l'échantillon suit une loi norm est rejetée avec un niveau de risque de 5.00%. Le test conclut que la distribution de l'échantillon ne suit pas une loi norm.\n",
      "\n",
      "Variable food_proportion_animal_protein\n",
      "Test de Kolmogorov-Smirnov de la loi de distribution norm pour l'échantillon de taille 174.\n",
      "ATTENTION, pour tester la normalité d'un échantillon de moins de 5000 individus, il est conseillé d'utiliser le test de Shapiro-Wilk.\n",
      "La statistique testée est D = 0.092\n",
      "La p_value 0.097 est supérieure à alpha 0.050. L'hypothèse que la distribution de l'échantillon suit une loi norm est acceptée au niveau de test de 5.00%.\n",
      "\n",
      "Variable food_protein_g_capita_day\n",
      "Test de Kolmogorov-Smirnov de la loi de distribution norm pour l'échantillon de taille 174.\n",
      "ATTENTION, pour tester la normalité d'un échantillon de moins de 5000 individus, il est conseillé d'utiliser le test de Shapiro-Wilk.\n",
      "La statistique testée est D = 0.083\n",
      "La p_value 0.168 est supérieure à alpha 0.050. L'hypothèse que la distribution de l'échantillon suit une loi norm est acceptée au niveau de test de 5.00%.\n",
      "\n",
      "Variable food_supply_kcal_capita_day\n",
      "Test de Kolmogorov-Smirnov de la loi de distribution norm pour l'échantillon de taille 174.\n",
      "ATTENTION, pour tester la normalité d'un échantillon de moins de 5000 individus, il est conseillé d'utiliser le test de Shapiro-Wilk.\n",
      "La statistique testée est D = 0.055\n",
      "La p_value 0.670 est supérieure à alpha 0.050. L'hypothèse que la distribution de l'échantillon suit une loi norm est acceptée au niveau de test de 5.00%.\n",
      "\n",
      "Variable animals_proportion_poultry_protein\n",
      "Test de Kolmogorov-Smirnov de la loi de distribution norm pour l'échantillon de taille 174.\n",
      "ATTENTION, pour tester la normalité d'un échantillon de moins de 5000 individus, il est conseillé d'utiliser le test de Shapiro-Wilk.\n",
      "La statistique testée est D = 0.088\n",
      "La p_value 0.131 est supérieure à alpha 0.050. L'hypothèse que la distribution de l'échantillon suit une loi norm est acceptée au niveau de test de 5.00%.\n",
      "\n",
      "Variable poultry_food_proportion_import\n",
      "Test de Kolmogorov-Smirnov de la loi de distribution norm pour l'échantillon de taille 174.\n",
      "ATTENTION, pour tester la normalité d'un échantillon de moins de 5000 individus, il est conseillé d'utiliser le test de Shapiro-Wilk.\n",
      "La statistique testée est D = 0.209\n",
      "La p_value 0.000 est inférieure à alpha 0.050. L'hypothèse que la distribution de l'échantillon suit une loi norm est rejetée avec un niveau de risque de 5.00%. Le test conclut que la distribution de l'échantillon ne suit pas une loi norm.\n",
      "\n",
      "Variable gdp_per_capita_usd\n",
      "Test de Kolmogorov-Smirnov de la loi de distribution norm pour l'échantillon de taille 174.\n",
      "ATTENTION, pour tester la normalité d'un échantillon de moins de 5000 individus, il est conseillé d'utiliser le test de Shapiro-Wilk.\n",
      "La statistique testée est D = 0.242\n",
      "La p_value 0.000 est inférieure à alpha 0.050. L'hypothèse que la distribution de l'échantillon suit une loi norm est rejetée avec un niveau de risque de 5.00%. Le test conclut que la distribution de l'échantillon ne suit pas une loi norm.\n",
      "\n",
      "Variable income_variability\n",
      "Test de Kolmogorov-Smirnov de la loi de distribution norm pour l'échantillon de taille 174.\n",
      "ATTENTION, pour tester la normalité d'un échantillon de moins de 5000 individus, il est conseillé d'utiliser le test de Shapiro-Wilk.\n",
      "La statistique testée est D = 0.107\n",
      "La p_value 0.035 est inférieure à alpha 0.050. L'hypothèse que la distribution de l'échantillon suit une loi norm est rejetée avec un niveau de risque de 5.00%. Le test conclut que la distribution de l'échantillon ne suit pas une loi norm.\n",
      "\n",
      "Variable taux_urbanisation\n",
      "Test de Kolmogorov-Smirnov de la loi de distribution norm pour l'échantillon de taille 174.\n",
      "ATTENTION, pour tester la normalité d'un échantillon de moins de 5000 individus, il est conseillé d'utiliser le test de Shapiro-Wilk.\n",
      "La statistique testée est D = 0.074\n",
      "La p_value 0.285 est supérieure à alpha 0.050. L'hypothèse que la distribution de l'échantillon suit une loi norm est acceptée au niveau de test de 5.00%.\n",
      "\n",
      "Variable political_stability\n",
      "Test de Kolmogorov-Smirnov de la loi de distribution norm pour l'échantillon de taille 174.\n",
      "ATTENTION, pour tester la normalité d'un échantillon de moins de 5000 individus, il est conseillé d'utiliser le test de Shapiro-Wilk.\n",
      "La statistique testée est D = 0.072\n",
      "La p_value 0.321 est supérieure à alpha 0.050. L'hypothèse que la distribution de l'échantillon suit une loi norm est acceptée au niveau de test de 5.00%.\n",
      "\n",
      "Variable doing_business_score\n",
      "Test de Kolmogorov-Smirnov de la loi de distribution norm pour l'échantillon de taille 174.\n",
      "ATTENTION, pour tester la normalité d'un échantillon de moins de 5000 individus, il est conseillé d'utiliser le test de Shapiro-Wilk.\n",
      "La statistique testée est D = 0.080\n",
      "La p_value 0.206 est supérieure à alpha 0.050. L'hypothèse que la distribution de l'échantillon suit une loi norm est acceptée au niveau de test de 5.00%.\n",
      "\n"
     ]
    }
   ],
   "source": [
    "for col in data.columns:\n",
    "    data_continue = sfsi.OneSample(data[col])\n",
    "    comment = data_continue.comment_test_loi_continue_ks(alpha=0.05, short_comment=False)\n",
    "    print(\"Variable {}\\n{}\\n\".format(col, comment))"
   ]
  },
  {
   "cell_type": "markdown",
   "metadata": {},
   "source": [
    "Cet exemple illustre le fait que le test de Kolmogorov-Smirnov n'est pas très fiable pour les petits échantillons : il accepte l'hypothèse de normalité au niveau de test de 5% pour 7 variables, là où le test de Shapiro n'accepte cette hypothèse à ce niveau de test pour aucune des variables."
   ]
  },
  {
   "cell_type": "code",
   "execution_count": null,
   "metadata": {},
   "outputs": [],
   "source": []
  }
 ],
 "metadata": {
  "kernelspec": {
   "display_name": "Python 3",
   "language": "python",
   "name": "python3"
  },
  "language_info": {
   "codemirror_mode": {
    "name": "ipython",
    "version": 3
   },
   "file_extension": ".py",
   "mimetype": "text/x-python",
   "name": "python",
   "nbconvert_exporter": "python",
   "pygments_lexer": "ipython3",
   "version": "3.7.2"
  }
 },
 "nbformat": 4,
 "nbformat_minor": 2
}
